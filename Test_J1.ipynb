{
 "cells": [
  {
   "cell_type": "code",
   "execution_count": 4,
   "metadata": {},
   "outputs": [
    {
     "name": "stdout",
     "output_type": "stream",
     "text": [
      "<class 'int'>\n",
      "<class 'float'>\n",
      "<class 'str'>\n",
      "<class 'str'>\n",
      "<class 'bool'>\n"
     ]
    }
   ],
   "source": [
    "#datatype\n",
    "print(type(7))\n",
    "print(type(5.6))\n",
    "print(type(\"a\"))\n",
    "print(type(\"spring\"))\n",
    "print(type(True))"
   ]
  },
  {
   "cell_type": "code",
   "execution_count": 12,
   "metadata": {},
   "outputs": [
    {
     "name": "stdout",
     "output_type": "stream",
     "text": [
      "u\n",
      "e\n",
      "nde\n",
      "\n",
      "full\n",
      "won\n",
      "derful\n",
      "llufrednow\n",
      "urd\n",
      "ur\n"
     ]
    }
   ],
   "source": [
    "#Indexing/Slicing\n",
    "a=\"wonderfull\"\n",
    "print(a[-3])\n",
    "print(a[4])\n",
    "print(a[2:5])\n",
    "print(a[-3:-5])\n",
    "print(a[6:])\n",
    "print(a[:-7])\n",
    "print(a[3:9:1])\n",
    "print(a[9::-1])\n",
    "print(a[7:1:-2])\n",
    "print(a[-3:-7:-2])"
   ]
  },
  {
   "cell_type": "code",
   "execution_count": null,
   "metadata": {},
   "outputs": [],
   "source": [
    "#Length\n",
    "a=\"Hello World is green\"\n",
    "print(len(a))"
   ]
  },
  {
   "cell_type": "code",
   "execution_count": null,
   "metadata": {},
   "outputs": [],
   "source": [
    "a=input()\n",
    "print(a)\n",
    "print(type(a))"
   ]
  }
 ],
 "metadata": {
  "kernelspec": {
   "display_name": "Python 3",
   "language": "python",
   "name": "python3"
  },
  "language_info": {
   "codemirror_mode": {
    "name": "ipython",
    "version": 3
   },
   "file_extension": ".py",
   "mimetype": "text/x-python",
   "name": "python",
   "nbconvert_exporter": "python",
   "pygments_lexer": "ipython3",
   "version": "3.7.6"
  }
 },
 "nbformat": 4,
 "nbformat_minor": 4
}

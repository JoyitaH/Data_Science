{
 "cells": [
  {
   "cell_type": "code",
   "execution_count": 1,
   "metadata": {},
   "outputs": [
    {
     "name": "stdout",
     "output_type": "stream",
     "text": [
      "14\n"
     ]
    }
   ],
   "source": [
    "a=\"World is green\"\n",
    "print(len(a))"
   ]
  },
  {
   "cell_type": "code",
   "execution_count": 9,
   "metadata": {},
   "outputs": [
    {
     "name": "stdout",
     "output_type": "stream",
     "text": [
      "Black Panther\n",
      "Black Panther\n",
      "<class 'str'>\n"
     ]
    }
   ],
   "source": [
    "a=input()\n",
    "print(a)\n",
    "print(type(a))"
   ]
  },
  {
   "cell_type": "code",
   "execution_count": 3,
   "metadata": {},
   "outputs": [
    {
     "name": "stdout",
     "output_type": "stream",
     "text": [
      "77.9\n",
      "77.9\n",
      "<class 'float'>\n"
     ]
    }
   ],
   "source": [
    "a=float(input())\n",
    "print(a)\n",
    "print(type(a))"
   ]
  },
  {
   "cell_type": "code",
   "execution_count": 7,
   "metadata": {},
   "outputs": [
    {
     "name": "stdout",
     "output_type": "stream",
     "text": [
      "false\n",
      "True\n",
      "<class 'bool'>\n"
     ]
    }
   ],
   "source": [
    "a=bool(input())\n",
    "print(a)\n",
    "print(type(a))"
   ]
  },
  {
   "cell_type": "code",
   "execution_count": 8,
   "metadata": {},
   "outputs": [
    {
     "name": "stdout",
     "output_type": "stream",
     "text": [
      "True\n",
      "True\n",
      "<class 'bool'>\n"
     ]
    }
   ],
   "source": [
    "a=bool(input())\n",
    "print(a)\n",
    "print(type(a))"
   ]
  },
  {
   "cell_type": "code",
   "execution_count": 19,
   "metadata": {},
   "outputs": [
    {
     "name": "stdout",
     "output_type": "stream",
     "text": [
      "pythonjava\n",
      "pythonis love\n",
      "6\n",
      "toav\n",
      "# python java #\n",
      "javajavajavajavajava\n"
     ]
    }
   ],
   "source": [
    "a=\"python\"\n",
    "b=\"java\"\n",
    "print(a+b)\n",
    "print(a+\"is love\")\n",
    "print(len(a))\n",
    "print(a[2:5:2]+b[1:3])\n",
    "print(\"# \"+a+\" \"+b+\" #\")\n",
    "c=b*5\n",
    "print(c)"
   ]
  },
  {
   "cell_type": "code",
   "execution_count": 16,
   "metadata": {},
   "outputs": [
    {
     "name": "stdout",
     "output_type": "stream",
     "text": [
      "JOYITA\n",
      "joyita\n"
     ]
    }
   ],
   "source": [
    "#Upper/Lower\n",
    "a=\"joyita\"\n",
    "b=a.upper()\n",
    "print(b)\n",
    "print(b.lower())"
   ]
  },
  {
   "cell_type": "code",
   "execution_count": 25,
   "metadata": {},
   "outputs": [
    {
     "name": "stdout",
     "output_type": "stream",
     "text": [
      "2\n",
      "2\n",
      "1\n",
      "1\n",
      "0\n",
      "1\n",
      "1\n"
     ]
    }
   ],
   "source": [
    "#Count\n",
    "a=\"python is awesome\"\n",
    "x=a.count(\"e\")\n",
    "y=a.count(\"o\")\n",
    "z=a.count(\"w\")\n",
    "print(x)\n",
    "print(y)\n",
    "print(z)\n",
    "print(a.count(\"a\"))\n",
    "print(a.count(\"z\"))\n",
    "w=\"py\"\n",
    "print(a.count(w))\n",
    "print(a.count(\"p\"))"
   ]
  },
  {
   "cell_type": "code",
   "execution_count": 26,
   "metadata": {},
   "outputs": [
    {
     "name": "stdout",
     "output_type": "stream",
     "text": [
      "HellE\n"
     ]
    }
   ],
   "source": [
    "#Replace\n",
    "a=\"Hello\"\n",
    "b=a.replace(\"o\",\"E\")\n",
    "print(b)"
   ]
  },
  {
   "cell_type": "code",
   "execution_count": 31,
   "metadata": {},
   "outputs": [
    {
     "name": "stdout",
     "output_type": "stream",
     "text": [
      "a= harsh\n",
      "hansh\n",
      "ashu\n"
     ]
    }
   ],
   "source": [
    "a=\"harsh\"\n",
    "x=\"r\"\n",
    "y=\"n\" \n",
    "print(\"a=\", a)\n",
    "print(a.replace(x,y))\n",
    "b=a.replace(\"har\",\"a\")\n",
    "print(b.replace(\"h\",\"hu\"))"
   ]
  },
  {
   "cell_type": "code",
   "execution_count": 4,
   "metadata": {},
   "outputs": [
    {
     "name": "stdout",
     "output_type": "stream",
     "text": [
      "2\n",
      "4\n",
      "-1\n",
      "0\n"
     ]
    }
   ],
   "source": [
    "#Find      firt index position\n",
    "a=\"awesome\"\n",
    "print(a.find(\"e\"))    #only first letter index value\n",
    "print(a.find(\"o\"))\n",
    "print(a.find(\"z\"))    #value doesnot exist\n",
    "print(a.find(\"a\"))"
   ]
  },
  {
   "cell_type": "code",
   "execution_count": 9,
   "metadata": {},
   "outputs": [
    {
     "name": "stdout",
     "output_type": "stream",
     "text": [
      "Wonderfull\n",
      "Wonderfull\n",
      "I am awesome\n",
      "I am awesome***\n",
      "***I am awesome\n"
     ]
    }
   ],
   "source": [
    "#Strip          removes unnecessary char/string from start and end of string\n",
    "a=\" Wonderfull \"\n",
    "print(a.strip())\n",
    "print(a.strip(\" \"))\n",
    "b=\"***I am awesome***\"\n",
    "print(b.strip(\"*\"))\n",
    "print(b.lstrip(\"*\"))\n",
    "print(b.rstrip(\"*\"))"
   ]
  },
  {
   "cell_type": "code",
   "execution_count": 11,
   "metadata": {},
   "outputs": [
    {
     "name": "stdout",
     "output_type": "stream",
     "text": [
      "World is green\n",
      "Hello world\n"
     ]
    }
   ],
   "source": [
    "#Capitalize\n",
    "a=\"world is green\"\n",
    "print(a.capitalize())\n",
    "b=\"hello world\"\n",
    "print(b.capitalize())"
   ]
  },
  {
   "cell_type": "code",
   "execution_count": 14,
   "metadata": {},
   "outputs": [
    {
     "name": "stdout",
     "output_type": "stream",
     "text": [
      "aWEsOME pERfUME\n",
      "Hello World\n"
     ]
    }
   ],
   "source": [
    "#Swapcase\n",
    "a=\"AweSome PerFume\"\n",
    "print(a.swapcase())\n",
    "b=\"hELLO wORLD\"\n",
    "print(b.swapcase())"
   ]
  },
  {
   "cell_type": "code",
   "execution_count": 18,
   "metadata": {},
   "outputs": [
    {
     "name": "stdout",
     "output_type": "stream",
     "text": [
      "['We', 'come']\n",
      "['W', 'lcom', '']\n",
      "['hello', 'world']\n",
      "['hello', 'world']\n"
     ]
    }
   ],
   "source": [
    "#Split\n",
    "a=\"Welcome\"\n",
    "print(a.split(\"l\"))\n",
    "print(a.split(\"e\"))\n",
    "b=\"hello world\"\n",
    "print(b.split(\" \"))\n",
    "print(b.split())"
   ]
  },
  {
   "cell_type": "code",
   "execution_count": 19,
   "metadata": {},
   "outputs": [
    {
     "name": "stdout",
     "output_type": "stream",
     "text": [
      "division of 5 and 9 is 0.5555555555555556\n"
     ]
    }
   ],
   "source": [
    "#format\n",
    "a=5\n",
    "b=9\n",
    "c=a/b\n",
    "print('division of {} and {} is {}'. format(a,b,c))"
   ]
  },
  {
   "cell_type": "code",
   "execution_count": null,
   "metadata": {},
   "outputs": [],
   "source": []
  }
 ],
 "metadata": {
  "kernelspec": {
   "display_name": "Python 3",
   "language": "python",
   "name": "python3"
  },
  "language_info": {
   "codemirror_mode": {
    "name": "ipython",
    "version": 3
   },
   "file_extension": ".py",
   "mimetype": "text/x-python",
   "name": "python",
   "nbconvert_exporter": "python",
   "pygments_lexer": "ipython3",
   "version": "3.7.6"
  }
 },
 "nbformat": 4,
 "nbformat_minor": 4
}

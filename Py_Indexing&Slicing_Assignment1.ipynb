{
 "cells": [
  {
   "cell_type": "code",
   "execution_count": 4,
   "metadata": {},
   "outputs": [
    {
     "name": "stdout",
     "output_type": "stream",
     "text": [
      "mathematics\n",
      "gineerin\n",
      "hematics\n",
      "ineering_\n",
      "neering_ma\n",
      "gineering_ma\n",
      "eering_mathem\n",
      "eering_mathematics\n",
      "engine\n"
     ]
    }
   ],
   "source": [
    "a=\"engineering_mathematics\"\n",
    "print(a[-11:])\n",
    "print(a[2:10])\n",
    "print(a[15:])\n",
    "print(a[3:12])\n",
    "print(a[-19:-9])\n",
    "print(a[2:-9])\n",
    "print(a[-18:18])\n",
    "print(a[-18:])\n",
    "print(a[0:6])"
   ]
  },
  {
   "cell_type": "code",
   "execution_count": 7,
   "metadata": {},
   "outputs": [
    {
     "name": "stdout",
     "output_type": "stream",
     "text": [
      "mathematics\n",
      "gineerin\n",
      "hematics\n",
      "ineering_\n",
      "neering_ma\n",
      "gineering_ma\n",
      "eering_mathem\n",
      "eering_mathematics\n",
      "engine\n",
      "mteais\n",
      "mhac\n",
      "gei\n"
     ]
    }
   ],
   "source": [
    "print(a[-11::1])\n",
    "print(a[2:10:1])\n",
    "print(a[15::1])\n",
    "print(a[3:12:1])\n",
    "print(a[-19:-9:1])\n",
    "print(a[2:-9:1])\n",
    "print(a[-18:18:1])\n",
    "print(a[-18::1])\n",
    "print(a[0:6:1])\n",
    "print(a[-11::2])\n",
    "print(a[-11::3])\n",
    "print(a[2:10:3])"
   ]
  }
 ],
 "metadata": {
  "kernelspec": {
   "display_name": "Python 3",
   "language": "python",
   "name": "python3"
  },
  "language_info": {
   "codemirror_mode": {
    "name": "ipython",
    "version": 3
   },
   "file_extension": ".py",
   "mimetype": "text/x-python",
   "name": "python",
   "nbconvert_exporter": "python",
   "pygments_lexer": "ipython3",
   "version": "3.7.6"
  }
 },
 "nbformat": 4,
 "nbformat_minor": 4
}
